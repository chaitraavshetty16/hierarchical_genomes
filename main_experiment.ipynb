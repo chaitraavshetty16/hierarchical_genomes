{
 "cells": [
  {
   "cell_type": "code",
   "execution_count": 8,
   "metadata": {},
   "outputs": [
    {
     "ename": "ModuleNotFoundError",
     "evalue": "No module named 'main_experiment_helper_functions'",
     "output_type": "error",
     "traceback": [
      "\u001b[0;31m---------------------------------------------------------------------------\u001b[0m",
      "\u001b[0;31mModuleNotFoundError\u001b[0m                       Traceback (most recent call last)",
      "Cell \u001b[0;32mIn[8], line 3\u001b[0m\n\u001b[1;32m      1\u001b[0m \u001b[38;5;28;01mimport\u001b[39;00m \u001b[38;5;21;01mnumpy\u001b[39;00m \u001b[38;5;28;01mas\u001b[39;00m \u001b[38;5;21;01mnp\u001b[39;00m\n\u001b[1;32m      2\u001b[0m \u001b[38;5;28;01mfrom\u001b[39;00m \u001b[38;5;21;01mreservoirpy\u001b[39;00m \u001b[38;5;28;01mimport\u001b[39;00m nodes, datasets\n\u001b[0;32m----> 3\u001b[0m \u001b[38;5;28;01mfrom\u001b[39;00m \u001b[38;5;21;01mmain_experiment_helper_functions\u001b[39;00m \u001b[38;5;28;01mimport\u001b[39;00m (create_initial_genome, mutate_hox,transcribe_hierarchical_genome_to_weight_matrix, mae, mse)\n\u001b[1;32m      4\u001b[0m \u001b[38;5;28;01mimport\u001b[39;00m \u001b[38;5;21;01mmatplotlib\u001b[39;00m\u001b[38;5;21;01m.\u001b[39;00m\u001b[38;5;21;01mpyplot\u001b[39;00m \u001b[38;5;28;01mas\u001b[39;00m \u001b[38;5;21;01mplt\u001b[39;00m\n\u001b[1;32m      5\u001b[0m \u001b[38;5;28;01mimport\u001b[39;00m \u001b[38;5;21;01mcopy\u001b[39;00m\n",
      "\u001b[0;31mModuleNotFoundError\u001b[0m: No module named 'main_experiment_helper_functions'"
     ]
    }
   ],
   "source": [
    "import numpy as np\n",
    "from reservoirpy import nodes, datasets\n",
    "from main_experiment_helper_functions import (create_initial_genome, mutate_hox,transcribe_hierarchical_genome_to_weight_matrix, mae, mse)\n",
    "import matplotlib.pyplot as plt\n",
    "import copy\n",
    "\n",
    "# Load the Mackey-Glass dataset\n",
    "X = datasets.mackey_glass(n_timesteps=1000, sample_len=2000)\n",
    "train_end = int(len(X) * 0.7)\n",
    "test_start = train_end + 1\n",
    "\n",
    "# Initialize the population\n",
    "population_size = 5\n",
    "genome = create_initial_genome(input_size=1, output_size=1, initial_connections=5)\n",
    "population = [copy.deepcopy(genome) for _ in range(population_size)]\n",
    "\n",
    "# Run the evolutionary process\n",
    "best_fitness_scores = []\n",
    "for i in range(50):\n",
    "    fitness_scores = []\n",
    "    new_population = []\n",
    "    for genome in population:\n",
    "        mutated_genome = mutate_hox(copy.deepcopy(genome), 0.1)\n",
    "        new_population.append(mutated_genome)\n",
    "        weight_matrix = transcribe_hierarchical_genome_to_weight_matrix(mutated_genome)\n",
    "        esn = nodes.Reservoir(Win=np.ones((weight_matrix.shape[0], 1)), W=weight_matrix, bias=np.zeros((weight_matrix.shape[0], 1))) >> nodes.Ridge(ridge=1e-6)\n",
    "        forecast = esn.fit(X[:train_end], X[1:train_end+1]).run(X[test_start:])\n",
    "        fitness_rmse = np.sqrt(mse(forecast, X[test_start:]))\n",
    "        fitness_mae = mae(forecast, X[test_start:])\n",
    "        fitness_scores.append({'rmse': fitness_rmse, 'mae': fitness_mae})\n",
    "    \n",
    "    # Selection based on MAE\n",
    "    best_genome_index = np.argmin([score['mae'] for score in fitness_scores])\n",
    "    best_genome = new_population[best_genome_index]\n",
    "    best_fitness_scores.append(fitness_scores[best_genome_index])\n",
    "    \n",
    "        # Reproduction (cloning the best genome for the next generation)\n",
    "    population = [copy.deepcopy(best_genome) for _ in range(population_size)]\n",
    "    \n",
    "# Gather the best fitness scores for plotting\n",
    "best_rmse_scores = [score['rmse'] for score in best_fitness_scores]\n",
    "best_mae_scores = [score['mae'] for score in best_fitness_scores]\n",
    "best_mse_scores = [mse(score['mae'], X[test_start:]) for score in best_fitness_scores]\n",
    "\n",
    "# Plotting the results\n",
    "plt.figure(figsize=(12, 6))\n",
    "plt.plot(best_rmse_scores, label='Best RMSE per Generation')\n",
    "plt.plot(best_mae_scores, label='Best MAE per Generation')\n",
    "plt.plot(best_mse_scores, label='Best MSE per Generation')\n",
    "plt.xlabel('Generation')\n",
    "plt.ylabel('Fitness Score')\n",
    "plt.title('Evolution of Fitness Scores Over Generations')\n",
    "plt.legend()\n",
    "plt.show()\n",
    "\n"
   ]
  }
 ],
 "metadata": {
  "kernelspec": {
   "display_name": ".venv",
   "language": "python",
   "name": "python3"
  },
  "language_info": {
   "codemirror_mode": {
    "name": "ipython",
    "version": 3
   },
   "file_extension": ".py",
   "mimetype": "text/x-python",
   "name": "python",
   "nbconvert_exporter": "python",
   "pygments_lexer": "ipython3",
   "version": "3.10.7"
  }
 },
 "nbformat": 4,
 "nbformat_minor": 2
}
