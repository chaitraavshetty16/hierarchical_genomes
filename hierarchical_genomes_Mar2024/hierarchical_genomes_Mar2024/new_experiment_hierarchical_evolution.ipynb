{
 "cells": [
  {
   "cell_type": "code",
   "execution_count": 5,
   "metadata": {},
   "outputs": [
    {
     "ename": "ModuleNotFoundError",
     "evalue": "No module named 'hierarchical_genomes_Mar2024'",
     "output_type": "error",
     "traceback": [
      "\u001b[0;31m---------------------------------------------------------------------------\u001b[0m",
      "\u001b[0;31mModuleNotFoundError\u001b[0m                       Traceback (most recent call last)",
      "Cell \u001b[0;32mIn[5], line 1\u001b[0m\n\u001b[0;32m----> 1\u001b[0m \u001b[38;5;28;01mimport\u001b[39;00m \u001b[38;5;21;01mhierarchical_genomes_Mar2024\u001b[39;00m \u001b[38;5;28;01mas\u001b[39;00m \u001b[38;5;21;01mhg\u001b[39;00m\n\u001b[1;32m      3\u001b[0m \u001b[38;5;66;03m#import hierarchical_genomes as hg\u001b[39;00m\n\u001b[1;32m      4\u001b[0m \u001b[38;5;28;01mimport\u001b[39;00m \u001b[38;5;21;01mnetworkx\u001b[39;00m \u001b[38;5;28;01mas\u001b[39;00m \u001b[38;5;21;01mnx\u001b[39;00m\n",
      "\u001b[0;31mModuleNotFoundError\u001b[0m: No module named 'hierarchical_genomes_Mar2024'"
     ]
    }
   ],
   "source": [
    "import hierarchical_genomes_Mar2024 as hg\n",
    "\n",
    "#import hierarchical_genomes as hg\n",
    "import networkx as nx\n",
    "import matplotlib.pyplot as plt\n",
    "import numpy as np"
   ]
  },
  {
   "cell_type": "markdown",
   "metadata": {},
   "source": [
    "# Genome Example and Network Visualization\n"
   ]
  },
  {
   "cell_type": "code",
   "execution_count": 10,
   "metadata": {},
   "outputs": [
    {
     "ename": "AttributeError",
     "evalue": "module 'hierarchical_genomes_Mar2024' has no attribute 'transcribe_hierarchical_genome_to_weight_matrix'",
     "output_type": "error",
     "traceback": [
      "\u001b[0;31m---------------------------------------------------------------------------\u001b[0m",
      "\u001b[0;31mAttributeError\u001b[0m                            Traceback (most recent call last)",
      "Cell \u001b[0;32mIn[10], line 13\u001b[0m\n\u001b[1;32m     10\u001b[0m genome \u001b[38;5;241m=\u001b[39m [[\u001b[38;5;241m0\u001b[39m,\u001b[38;5;241m1\u001b[39m,\u001b[38;5;241m0.5\u001b[39m],[\u001b[38;5;241m1\u001b[39m,\u001b[38;5;241m2\u001b[39m,\u001b[38;5;241m0.5\u001b[39m],[\u001b[38;5;241m2\u001b[39m,\u001b[38;5;241m3\u001b[39m,\u001b[38;5;241m0.1\u001b[39m]]\n\u001b[1;32m     12\u001b[0m \u001b[38;5;66;03m# Transcribe the genome into a weight matrix\u001b[39;00m\n\u001b[0;32m---> 13\u001b[0m weight_matrix \u001b[38;5;241m=\u001b[39m \u001b[43mhg\u001b[49m\u001b[38;5;241;43m.\u001b[39;49m\u001b[43mtranscribe_hierarchical_genome_to_weight_matrix\u001b[49m(genome)\n\u001b[1;32m     14\u001b[0m \u001b[38;5;28mprint\u001b[39m(weight_matrix)\n",
      "\u001b[0;31mAttributeError\u001b[0m: module 'hierarchical_genomes_Mar2024' has no attribute 'transcribe_hierarchical_genome_to_weight_matrix'"
     ]
    }
   ],
   "source": [
    "# Define a simple genome\n",
    "# a connection gene is of the from [from_node, to_node, weight]\n",
    "# A genome consists of nested lists where the lowest level of any branch of the nested lists\n",
    "# is a connection gene.\n",
    "\n",
    "# Define a simple genome \n",
    "# with 3 nodes (given by the largest node number in the genome)\n",
    "# three connections (given by the number of connection genes)\n",
    "# the first two connections genes share the same weight, the third has a smaller weight. This will be shown in the graph visualization\n",
    "genome = [[0,1,0.5],[1,2,0.5],[2,3,0.1]]\n",
    "\n",
    "# Transcribe the genome into a weight matrix\n",
    "weight_matrix = hg.transcribe_hierarchical_genome_to_weight_matrix(genome)\n",
    "print(weight_matrix)\n"
   ]
  },
  {
   "cell_type": "code",
   "execution_count": null,
   "metadata": {},
   "outputs": [],
   "source": [
    "# Use networkx to visualize the genome\n",
    "# First the weight matrix is converted into a networkx graph\n",
    "graph = nx.from_numpy_array(weight_matrix, create_using=nx.DiGraph)\n",
    "\n",
    "# Then the graph is visualized\n",
    "figure = plt.figure(figsize=(5,5))\n",
    "\n",
    "# The layout is chosen to be the kamada kawai layout, this is a force directed graph\n",
    "# Its good to visualize changes in the graph produced by the genome's evolution as \n",
    "# the nodes generally stay at the same location in the graph\n",
    "nx.draw_kamada_kawai(graph, with_labels=True)"
   ]
  },
  {
   "cell_type": "markdown",
   "metadata": {},
   "source": [
    "# Undirected Evolution Example"
   ]
  },
  {
   "cell_type": "markdown",
   "metadata": {},
   "source": [
    "Here we simple mutate the original genome over a few generations so that the we can get an intuition for how the mutation operations changes the underlying network."
   ]
  },
  {
   "cell_type": "code",
   "execution_count": 6,
   "metadata": {},
   "outputs": [
    {
     "ename": "AttributeError",
     "evalue": "module 'hierarchical_genomes_Mar2024' has no attribute 'transcribe_hierarchical_genome_to_weight_matrix'",
     "output_type": "error",
     "traceback": [
      "\u001b[0;31m---------------------------------------------------------------------------\u001b[0m",
      "\u001b[0;31mAttributeError\u001b[0m                            Traceback (most recent call last)",
      "Cell \u001b[0;32mIn[6], line 8\u001b[0m\n\u001b[1;32m      5\u001b[0m genome \u001b[38;5;241m=\u001b[39m [[\u001b[38;5;241m0\u001b[39m,\u001b[38;5;241m1\u001b[39m,\u001b[38;5;241m0.5\u001b[39m],[\u001b[38;5;241m1\u001b[39m,\u001b[38;5;241m2\u001b[39m,\u001b[38;5;241m0.5\u001b[39m],[\u001b[38;5;241m2\u001b[39m,\u001b[38;5;241m3\u001b[39m,\u001b[38;5;241m0.5\u001b[39m]]\n\u001b[1;32m      7\u001b[0m \u001b[38;5;66;03m# Transcribe the first genome into a weight matrix for later visualization\u001b[39;00m\n\u001b[0;32m----> 8\u001b[0m weight_matrix \u001b[38;5;241m=\u001b[39m \u001b[43mhg\u001b[49m\u001b[38;5;241;43m.\u001b[39;49m\u001b[43mtranscribe_hierarchical_genome_to_weight_matrix\u001b[49m(genome)\n\u001b[1;32m     10\u001b[0m \u001b[38;5;66;03m# Setup lists to store the weight matrices and mutation history\u001b[39;00m\n\u001b[1;32m     11\u001b[0m weight_matrices \u001b[38;5;241m=\u001b[39m [weight_matrix]\n",
      "\u001b[0;31mAttributeError\u001b[0m: module 'hierarchical_genomes_Mar2024' has no attribute 'transcribe_hierarchical_genome_to_weight_matrix'"
     ]
    }
   ],
   "source": [
    "# Setup the number of generations to evolve the genome\n",
    "n_generations = 50\n",
    "\n",
    "# Define the starting genome\n",
    "genome = [[0,1,0.5],[1,2,0.5],[2,3,0.5]]\n",
    "\n",
    "# Transcribe the first genome into a weight matrix for later visualization\n",
    "weight_matrix = hg.transcribe_hierarchical_genome_to_weight_matrix(genome)\n",
    "\n",
    "# Setup lists to store the weight matrices and mutation history\n",
    "weight_matrices = [weight_matrix]\n",
    "mutation_history = [\"initial\"]\n",
    "\n",
    "# Mutate the genome for n_generations\n",
    "for generation in range(n_generations):\n",
    "    genome, mutation = hg.mutate_genome_with_hox(genome)\n",
    "\n",
    "    mutation_history.append(mutation)\n",
    "\n",
    "    weight_matrix = hg.transcribe_hierarchical_genome_to_weight_matrix(genome)\n",
    "    weight_matrices.append(weight_matrix)\n",
    "    \n"
   ]
  },
  {
   "cell_type": "markdown",
   "metadata": {},
   "source": [
    "## Visualize the mutation history of the Genome"
   ]
  },
  {
   "cell_type": "code",
   "execution_count": null,
   "metadata": {},
   "outputs": [],
   "source": [
    "\n",
    "fig, ax = plt.subplots(n_generations,1, figsize=(5,n_generations*5))\n",
    "\n",
    "for generation in range(n_generations):\n",
    "    weight_matrix = weight_matrices[generation]\n",
    "    weight_matrix = np.abs(weight_matrix)\n",
    "    \n",
    "    if len(weight_matrix.shape) == 2:\n",
    "        # Add 1 to all non-zero weights to make the visualization nicer\n",
    "        weight_matrix += weight_matrix != 0\n",
    "\n",
    "        graph = nx.from_numpy_array(weight_matrix, create_using=nx.DiGraph)\n",
    "        nx.draw_kamada_kawai(graph, ax=ax[generation], with_labels=True)\n",
    "        ax[generation].set_title(f\"Generation {generation}, mutation {mutation_history[generation]}\")\n",
    "plt.show()"
   ]
  },
  {
   "cell_type": "markdown",
   "metadata": {},
   "source": [
    "## Visualize the Genome without mutation"
   ]
  },
  {
   "cell_type": "code",
   "execution_count": null,
   "metadata": {},
   "outputs": [],
   "source": [
    "\n",
    "# Using the mutate_genome_without_hox function\n",
    "\n",
    "# Setup the number of generations to evolve the genome\n",
    "n_generations_without_hox = 50\n",
    "\n",
    "# Define the starting genome again for non-HOX mutations\n",
    "genome_without_hox = [[0,1,0.5],[1,2,0.5],[2,3,0.5]]\n",
    "\n",
    "# Transcribe the first genome into a weight matrix for later visualization\n",
    "weight_matrix_without_hox = hg.transcribe_hierarchical_genome_to_weight_matrix(genome_without_hox)\n",
    "\n",
    "# Setup lists to store the weight matrices and mutation history\n",
    "weight_matrices_without_hox = [weight_matrix_without_hox]\n",
    "mutation_history_without_hox = [\"initial\"]\n",
    "\n",
    "# Mutate the genome without HOX for n_generations_without_hox\n",
    "for generation in range(n_generations_without_hox):\n",
    "    genome_without_hox, mutation = hg.mutate_genome_without_hox(genome_without_hox)\n",
    "\n",
    "    mutation_history_without_hox.append(mutation)\n",
    "\n",
    "    weight_matrix_without_hox = hg.transcribe_hierarchical_genome_to_weight_matrix(genome_without_hox)\n",
    "    weight_matrices_without_hox.append(weight_matrix_without_hox)\n",
    "\n",
    "# Visualization for the genomes without HOX mutations\n",
    "\n",
    "fig, ax = plt.subplots(n_generations_without_hox,1, figsize=(5,n_generations_without_hox*5))\n",
    "\n",
    "for generation in range(n_generations_without_hox):\n",
    "    weight_matrix = weight_matrices_without_hox[generation]\n",
    "    weight_matrix = np.abs(weight_matrix)\n",
    "\n",
    "    if len(weight_matrix.shape) == 2:\n",
    "        weight_matrix += weight_matrix != 0\n",
    "\n",
    "        graph = nx.from_numpy_array(weight_matrix, create_using=nx.DiGraph)\n",
    "        nx.draw_kamada_kawai(graph, ax=ax[generation], with_labels=True)\n",
    "        ax[generation].set_title(f\"Generation {generation} (without HOX), mutation {mutation_history_without_hox[generation]}\")\n",
    "plt.show()"
   ]
  }
 ],
 "metadata": {
  "kernelspec": {
   "display_name": "Python 3 (ipykernel)",
   "language": "python",
   "name": "python3"
  },
  "language_info": {
   "codemirror_mode": {
    "name": "ipython",
    "version": 3
   },
   "file_extension": ".py",
   "mimetype": "text/x-python",
   "name": "python",
   "nbconvert_exporter": "python",
   "pygments_lexer": "ipython3",
   "version": "3.10.7"
  }
 },
 "nbformat": 4,
 "nbformat_minor": 2
}
