{
 "cells": [
  {
   "cell_type": "code",
   "execution_count": 1,
   "metadata": {},
   "outputs": [],
   "source": [
    "import numpy as np\n",
    "from reservoirpy import nodes, datasets, observables\n",
    "import reservoirpy as rpy\n",
    "import matplotlib.pyplot as plt  \n",
    "import random\n",
    "import copy       \n",
    "import hierarchical_genomes as hg\n",
    "from expt_helper_functions import create_initial_genome, select_best_genomes, reproduce, log_generation_results, analyze_results,mae,mse,calculate_diversity_score, should_increase_timestep,visualize_genome,mutate_hox,mutate_hox_new"
   ]
  },
  {
   "cell_type": "code",
   "execution_count": 2,
   "metadata": {},
   "outputs": [],
   "source": [
    "X = datasets.mackey_glass(n_timesteps=1000, sample_len=2000)"
   ]
  },
  {
   "cell_type": "code",
   "execution_count": 3,
   "metadata": {},
   "outputs": [
    {
     "ename": "TypeError",
     "evalue": "object of type 'NoneType' has no len()",
     "output_type": "error",
     "traceback": [
      "\u001b[0;31m---------------------------------------------------------------------------\u001b[0m",
      "\u001b[0;31mTypeError\u001b[0m                                 Traceback (most recent call last)",
      "Cell \u001b[0;32mIn[3], line 20\u001b[0m\n\u001b[1;32m     16\u001b[0m mutated_genome \u001b[38;5;241m=\u001b[39m mutate_hox(copy\u001b[38;5;241m.\u001b[39mdeepcopy(genome), \u001b[38;5;241m1\u001b[39m)\n\u001b[1;32m     18\u001b[0m mutated_genome_list\u001b[38;5;241m.\u001b[39mappend(mutated_genome)\n\u001b[0;32m---> 20\u001b[0m weight_matrix \u001b[38;5;241m=\u001b[39m \u001b[43mhg\u001b[49m\u001b[38;5;241;43m.\u001b[39;49m\u001b[43mtranscribe_hierarchical_genome_to_weight_matrix\u001b[49m\u001b[43m(\u001b[49m\u001b[43mmutated_genome\u001b[49m\u001b[43m)\u001b[49m\n\u001b[1;32m     22\u001b[0m esn \u001b[38;5;241m=\u001b[39m nodes\u001b[38;5;241m.\u001b[39mReservoir(Win\u001b[38;5;241m=\u001b[39mnp\u001b[38;5;241m.\u001b[39mones((\u001b[38;5;241m8\u001b[39m,\u001b[38;5;241m1\u001b[39m)), W\u001b[38;5;241m=\u001b[39mweight_matrix, bias\u001b[38;5;241m=\u001b[39mnp\u001b[38;5;241m.\u001b[39mzeros((\u001b[38;5;241m8\u001b[39m,\u001b[38;5;241m1\u001b[39m))) \u001b[38;5;241m>>\u001b[39m nodes\u001b[38;5;241m.\u001b[39mRidge(ridge\u001b[38;5;241m=\u001b[39m\u001b[38;5;241m1e-6\u001b[39m)\n\u001b[1;32m     24\u001b[0m forecast \u001b[38;5;241m=\u001b[39m esn\u001b[38;5;241m.\u001b[39mfit(X[:\u001b[38;5;241m500\u001b[39m], X[n_steps_to_predict:\u001b[38;5;241m500\u001b[39m\u001b[38;5;241m+\u001b[39mn_steps_to_predict])\u001b[38;5;241m.\u001b[39mrun(X[\u001b[38;5;241m500\u001b[39m\u001b[38;5;241m+\u001b[39mn_steps_to_predict:])\n",
      "File \u001b[0;32m~/Downloads/Advanced-Genomes-for-Evolutionary-Computing-main 3/hierarchical_genomes/hierarchical_genomes/genome_transcription.py:13\u001b[0m, in \u001b[0;36mtranscribe_hierarchical_genome_to_weight_matrix\u001b[0;34m(genome)\u001b[0m\n\u001b[1;32m      7\u001b[0m \u001b[38;5;250m\u001b[39m\u001b[38;5;124;03m\"\"\"\u001b[39;00m\n\u001b[1;32m      8\u001b[0m \u001b[38;5;124;03mTranscribes the genome to a weight matrix.\u001b[39;00m\n\u001b[1;32m      9\u001b[0m \u001b[38;5;124;03m\"\"\"\u001b[39;00m\n\u001b[1;32m     11\u001b[0m \u001b[38;5;66;03m# Finds all connection genes in the genome\u001b[39;00m\n\u001b[1;32m     12\u001b[0m \u001b[38;5;66;03m# i.e all genes that connect two nodes and the weight between them\u001b[39;00m\n\u001b[0;32m---> 13\u001b[0m connection_genes \u001b[38;5;241m=\u001b[39m \u001b[43mfind_connection_genes\u001b[49m\u001b[43m(\u001b[49m\u001b[43mgenome\u001b[49m\u001b[43m)\u001b[49m\n\u001b[1;32m     15\u001b[0m \u001b[38;5;66;03m# Finds the largest node number to determine size of weight matrix\u001b[39;00m\n\u001b[1;32m     16\u001b[0m max_node_nr \u001b[38;5;241m=\u001b[39m find_max_postive_int_in_nested_list(connection_genes)\n",
      "File \u001b[0;32m~/Downloads/Advanced-Genomes-for-Evolutionary-Computing-main 3/hierarchical_genomes/hierarchical_genomes/helper_functions.py:96\u001b[0m, in \u001b[0;36mfind_connection_genes\u001b[0;34m(genome)\u001b[0m\n\u001b[1;32m     90\u001b[0m \u001b[38;5;28;01mdef\u001b[39;00m \u001b[38;5;21mfind_connection_genes\u001b[39m(genome):\n\u001b[1;32m     91\u001b[0m \u001b[38;5;250m    \u001b[39m\u001b[38;5;124;03m\"\"\"\u001b[39;00m\n\u001b[1;32m     92\u001b[0m \u001b[38;5;124;03m    Finds all connection genes in a genome.\u001b[39;00m\n\u001b[1;32m     93\u001b[0m \u001b[38;5;124;03m    i.e identifies all genes that connect two nodes and the weight between them.\u001b[39;00m\n\u001b[1;32m     94\u001b[0m \u001b[38;5;124;03m    and return them in a list.\u001b[39;00m\n\u001b[1;32m     95\u001b[0m \u001b[38;5;124;03m    \"\"\"\u001b[39;00m\n\u001b[0;32m---> 96\u001b[0m     \u001b[38;5;28;01mif\u001b[39;00m \u001b[38;5;28;43mlen\u001b[39;49m\u001b[43m(\u001b[49m\u001b[43mgenome\u001b[49m\u001b[43m)\u001b[49m \u001b[38;5;241m==\u001b[39m \u001b[38;5;241m0\u001b[39m:\n\u001b[1;32m     97\u001b[0m         \u001b[38;5;28;01mdel\u001b[39;00m(genome)\n\u001b[1;32m     98\u001b[0m         \u001b[38;5;28;01mreturn\u001b[39;00m \n",
      "\u001b[0;31mTypeError\u001b[0m: object of type 'NoneType' has no len()"
     ]
    }
   ],
   "source": [
    "population_size=5\n",
    "genome = [[1,2,-0.1], [2,3,0.1],[3,4,0.2], [4,5,-0.1], [5,6,0.3],[6,7,0.3] ]  \n",
    "population = [copy.deepcopy(genome)  for _ in range(population_size)]  # create a deep copy of the genome\n",
    "n_steps_to_predict = 2\n",
    "best_mae_score = []\n",
    "rpy.verbosity(0)\n",
    "best_mae_ovr_gen=[]\n",
    "\n",
    "\n",
    "for i in range(50):\n",
    "    \n",
    "    best_mae = []\n",
    "    mutated_genome_list = []\n",
    "    \n",
    "    for genome in population:\n",
    "        mutated_genome = mutate_hox(copy.deepcopy(genome), 1)\n",
    "        \n",
    "        mutated_genome_list.append(mutated_genome)\n",
    "        \n",
    "        weight_matrix = hg.transcribe_hierarchical_genome_to_weight_matrix(mutated_genome)\n",
    "\n",
    "        esn = nodes.Reservoir(Win=np.ones((8,1)), W=weight_matrix, bias=np.zeros((8,1))) >> nodes.Ridge(ridge=1e-6)\n",
    "\n",
    "        forecast = esn.fit(X[:500], X[n_steps_to_predict:500+n_steps_to_predict]).run(X[500+n_steps_to_predict:])\n",
    "    \n",
    "        best_mae_score = np.mean(np.abs(forecast[:-n_steps_to_predict] - X[500+n_steps_to_predict * 2:]))\n",
    "        \n",
    "        best_mae.append(best_mae_score)\n",
    "        \n",
    "    #np.argmin(best_mae)\n",
    "    #print(\"Generation \"+ str(i) + \" : \" + str(best_mae[np.argmin(best_mae)]))\n",
    "    \n",
    "    \n",
    "    \n",
    "    population = [copy.deepcopy(mutated_genome_list[np.argmin(best_mae)])  for _ in range(population_size)]\n",
    "    \n",
    "    best_mae_ovr_gen.append(best_mae[np.argmin(best_mae)])\n",
    "    #plt.plot(X[500+n_steps_to_predict:], label='True')\n",
    "plt.plot(best_mae_ovr_gen, label='Best MAE')\n",
    "\n"
   ]
  },
  {
   "cell_type": "code",
   "execution_count": 45,
   "metadata": {},
   "outputs": [
    {
     "name": "stdout",
     "output_type": "stream",
     "text": [
      "[3 3 3]\n"
     ]
    }
   ],
   "source": [
    "a1 = np.array([1,2,3])\n",
    "a2 = np.array([4,5,6])\n",
    "print(a2-a1)"
   ]
  }
 ],
 "metadata": {
  "kernelspec": {
   "display_name": ".venv",
   "language": "python",
   "name": "python3"
  },
  "language_info": {
   "codemirror_mode": {
    "name": "ipython",
    "version": 3
   },
   "file_extension": ".py",
   "mimetype": "text/x-python",
   "name": "python",
   "nbconvert_exporter": "python",
   "pygments_lexer": "ipython3",
   "version": "3.10.7"
  }
 },
 "nbformat": 4,
 "nbformat_minor": 2
}
