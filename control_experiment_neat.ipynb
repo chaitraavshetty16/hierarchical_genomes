{
 "cells": [
  {
   "cell_type": "code",
   "execution_count": null,
   "metadata": {},
   "outputs": [],
   "source": [
    "import neat\n",
    "import numpy as np\n",
    "import matplotlib.pyplot as plt\n",
    "from sklearn.metrics import mean_squared_error, mean_absolute_error\n",
    "import networkx as nx\n",
    "from reservoirpy import nodes, datasets\n",
    "\n",
    "import reservoirpy as rpy\n",
    "rpy.verbosity(0)\n",
    "\n",
    "# Assuming the helper functions from the provided scripts are imported correctly:\n",
    "import hierarchical_genome_mutations_operations as hgmo\n",
    "import evolution_step_functions as esf\n",
    "import genome_analysis as ga\n",
    "import genome_transcription as gt\n",
    "import helper_functions as hf\n",
    "import hierarchical_genomes as hg"
   ]
  },
  {
   "cell_type": "code",
   "execution_count": null,
   "metadata": {},
   "outputs": [],
   "source": [
    "# Define other required parameters\n",
    "population_size = 50\n",
    "n_generations = 200\n",
    "genome_length = 100\n",
    "n_timesteps = 2000\n",
    "\n",
    "# Initialize your dataset\n",
    "X = datasets.mackey_glass(n_timesteps=n_timesteps, sample_len=2000)\n",
    "Y = np.roll(X, -1)\n",
    "\n",
    "# Split the dataset\n",
    "train_end = int(len(X) * 0.7)\n",
    "test_start = train_end + 1\n",
    "X_train, Y_train = X[:train_end], Y[:train_end]\n",
    "X_test, Y_test = X[test_start:], Y[test_start:]\n"
   ]
  },
  {
   "cell_type": "code",
   "execution_count": null,
   "metadata": {},
   "outputs": [],
   "source": [
    "# Define your evaluation function using the loaded dataset\n",
    "def eval_genomes(genomes, config):\n",
    "    for genome_id, genome in genomes:\n",
    "        net = neat.nn.FeedForwardNetwork.create(genome, config)\n",
    "        predictions = np.array([net.activate(xi) for xi in X_train])\n",
    "        mse = mean_squared_error(Y_train, predictions)\n",
    "        mae = mean_absolute_error(Y_train, predictions)\n",
    "        rmse = np.sqrt(mse)\n",
    "        \n",
    "        # Combining fitness metrics, you can customize this part\n",
    "        genome.fitness = -mse  # NEAT works with a maximization problem\n",
    "\n",
    "# Load the configuration\n",
    "config = neat.Config(neat.DefaultGenome, neat.DefaultReproduction, neat.DefaultSpeciesSet, neat.DefaultStagnation, 'config_neat.txt')\n",
    "\n",
    "# Create the population, which is the top-level object for a NEAT run.\n",
    "p = neat.Population(config)\n",
    "\n",
    "# Add a stdout reporter to show progress in the terminal.\n",
    "p.add_reporter(neat.StdOutReporter(True))\n",
    "stats = neat.StatisticsReporter()\n",
    "p.add_reporter(stats)\n",
    "p.add_reporter(neat.Checkpointer(5))\n",
    "\n",
    "# Run the experiment, pass eval_genomes function and number of generations\n",
    "winner = p.run(eval_genomes, 50)\n",
    "\n",
    "# Display the winning genome\n",
    "print('\\nBest genome:\\n{!s}'.format(winner))\n",
    "\n",
    "# Plotting the performance graph\n",
    "generation = range(len(stats.get_fitness_mean()))\n",
    "plt.plot(generation, stats.get_fitness_mean(), label=\"Mean Fitness\")\n",
    "plt.xlabel(\"Generation\")\n",
    "plt.ylabel(\"Fitness\")\n",
    "plt.legend(loc=\"best\")\n",
    "plt.show()\n"
   ]
  }
 ],
 "metadata": {
  "language_info": {
   "name": "python"
  }
 },
 "nbformat": 4,
 "nbformat_minor": 2
}
