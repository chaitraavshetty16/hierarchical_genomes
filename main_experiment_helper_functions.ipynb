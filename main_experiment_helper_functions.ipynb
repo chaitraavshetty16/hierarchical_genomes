{
 "cells": [
  {
   "cell_type": "code",
   "execution_count": 1,
   "metadata": {},
   "outputs": [],
   "source": [
    "import numpy as np\n",
    "import copy\n",
    "import random\n",
    "\n",
    "def create_initial_genome(input_size=10, output_size=10, initial_connections=20):\n",
    "    genome = []\n",
    "    for _ in range(initial_connections):\n",
    "        input_node = random.randint(0, input_size - 1)\n",
    "        output_node = random.randint(0, output_size - 1)\n",
    "        weight = random.uniform(-1.0, 1.0)\n",
    "        genome.append([input_node, output_node, weight])\n",
    "    return genome\n",
    "\n",
    "def mutate_hox(genome, mutation_rate):\n",
    "    def apply_mutation(gene):\n",
    "        if np.random.rand() < mutation_rate:\n",
    "            gene[2] += np.random.uniform(-0.1, 0.1)\n",
    "        return gene\n",
    "    \n",
    "    for i in range(len(genome)):\n",
    "        if isinstance(genome[i], list):\n",
    "            genome[i] = apply_mutation(genome[i])\n",
    "        elif isinstance(genome[i], list):  # For nested lists\n",
    "            for j in range(len(genome[i])):\n",
    "                genome[i][j] = apply_mutation(genome[i][j])\n",
    "    return genome\n",
    "\n",
    "def transcribe_hierarchical_genome_to_weight_matrix(genome):\n",
    "    # Placeholder for converting genome to weight matrix\n",
    "    return np.array([[gene[2] for gene in genome]])\n",
    "\n",
    "def mae(prediction, target):\n",
    "    return np.mean(np.abs(prediction - target))\n",
    "\n",
    "def mse(prediction, target):\n",
    "    return np.mean((prediction - target)**2)\n",
    "\n",
    "# Other necessary functions can be added here\n"
   ]
  }
 ],
 "metadata": {
  "kernelspec": {
   "display_name": ".venv",
   "language": "python",
   "name": "python3"
  },
  "language_info": {
   "codemirror_mode": {
    "name": "ipython",
    "version": 3
   },
   "file_extension": ".py",
   "mimetype": "text/x-python",
   "name": "python",
   "nbconvert_exporter": "python",
   "pygments_lexer": "ipython3",
   "version": "3.10.7"
  }
 },
 "nbformat": 4,
 "nbformat_minor": 2
}
