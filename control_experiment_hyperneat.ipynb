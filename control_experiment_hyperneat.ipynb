{
 "cells": [
  {
   "cell_type": "code",
   "execution_count": 1,
   "metadata": {},
   "outputs": [
    {
     "ename": "ModuleNotFoundError",
     "evalue": "No module named 'ples'",
     "output_type": "error",
     "traceback": [
      "\u001b[0;31m---------------------------------------------------------------------------\u001b[0m",
      "\u001b[0;31mModuleNotFoundError\u001b[0m                       Traceback (most recent call last)",
      "Cell \u001b[0;32mIn[1], line 7\u001b[0m\n\u001b[1;32m      5\u001b[0m \u001b[38;5;28;01mfrom\u001b[39;00m \u001b[38;5;21;01mreservoirpy\u001b[39;00m \u001b[38;5;28;01mimport\u001b[39;00m datasets\n\u001b[1;32m      6\u001b[0m \u001b[38;5;28;01mimport\u001b[39;00m \u001b[38;5;21;01mpureples\u001b[39;00m \u001b[38;5;28;01mas\u001b[39;00m \u001b[38;5;21;01mples\u001b[39;00m\n\u001b[0;32m----> 7\u001b[0m \u001b[38;5;28;01mfrom\u001b[39;00m \u001b[38;5;21;01mples\u001b[39;00m\u001b[38;5;21;01m.\u001b[39;00m\u001b[38;5;21;01mhyperneat\u001b[39;00m\u001b[38;5;21;01m.\u001b[39;00m\u001b[38;5;21;01mhyperneat\u001b[39;00m \u001b[38;5;28;01mimport\u001b[39;00m HyperNEAT\n\u001b[1;32m      8\u001b[0m \u001b[38;5;28;01mfrom\u001b[39;00m \u001b[38;5;21;01mples\u001b[39;00m\u001b[38;5;21;01m.\u001b[39;00m\u001b[38;5;21;01mhyperneat\u001b[39;00m\u001b[38;5;21;01m.\u001b[39;00m\u001b[38;5;21;01msubstrate\u001b[39;00m \u001b[38;5;28;01mimport\u001b[39;00m Substrate\n\u001b[1;32m      9\u001b[0m \u001b[38;5;28;01mfrom\u001b[39;00m \u001b[38;5;21;01mhyperneat\u001b[39;00m\u001b[38;5;21;01m.\u001b[39;00m\u001b[38;5;21;01mhyperneat\u001b[39;00m \u001b[38;5;28;01mimport\u001b[39;00m create_phenotype_network\n",
      "\u001b[0;31mModuleNotFoundError\u001b[0m: No module named 'ples'"
     ]
    }
   ],
   "source": [
    "import neat\n",
    "import numpy as np\n",
    "import matplotlib.pyplot as plt\n",
    "from sklearn.metrics import mean_squared_error, mean_absolute_error\n",
    "from reservoirpy import datasets\n",
    "\n",
    "import pureples as ples\n",
    "from pureples.hyperneat.hyperneat import create_phenotype_network\n",
    "from pureples.shared.substrate import Substrate\n",
    "\n",
    "\n",
    "import reservoirpy as rpy\n",
    "rpy.verbosity(0)"
   ]
  },
  {
   "cell_type": "code",
   "execution_count": null,
   "metadata": {},
   "outputs": [],
   "source": [
    "# Define other required parameters for HyperNEAT experiment\n",
    "population_size = 50\n",
    "n_generations = 200\n",
    "genome_length = 100  # This may not be directly applicable in HyperNEAT as in NEAT\n",
    "n_timesteps = 2000\n",
    "\n",
    "# Initialize your dataset for HyperNEAT\n",
    "X = datasets.mackey_glass(n_timesteps=n_timesteps, sample_len=2000)\n",
    "Y = np.roll(X, -1)\n",
    "\n",
    "# Dataset split\n",
    "train_end = int(len(X) * 0.7)\n",
    "test_start = train_end + 1\n",
    "X_train, Y_train = X[:train_end], Y[:train_end]\n",
    "X_test, Y_test = X[test_start:], Y[test_start:]\n",
    "\n",
    "# Ensure X and Y are correctly shaped for input into the neural network\n",
    "X_train = X_train.reshape(-1, 1)\n",
    "Y_train = Y_train.reshape(-1, 1)\n",
    "X_test = X_test.reshape(-1, 1)\n",
    "Y_test = Y_test.reshape(-1, 1)"
   ]
  },
  {
   "cell_type": "code",
   "execution_count": null,
   "metadata": {},
   "outputs": [],
   "source": [
    "def eval_genomes_hyperneat(genomes, config):\n",
    "    fitness_scores = []\n",
    "    for genome_id, genome in genomes:\n",
    "        # This function should be adapted to your implementation\n",
    "        net = create_phenotype_network(genome, config)\n",
    "        \n",
    "        predictions = []\n",
    "        for xi in X_train:  # Ensure xi is presented in the correct shape or form for your substrate\n",
    "            output = net.activate(xi.flatten())  # Flattening might be needed depending on your input format\n",
    "            predictions.append(output)\n",
    "        \n",
    "        predictions = np.squeeze(np.array(predictions))  # Ensure predictions are in the correct shape for comparison\n",
    "        mse = mean_squared_error(Y_train, predictions)\n",
    "        mae = mean_absolute_error(Y_train, predictions)\n",
    "        rmse = np.sqrt(mse)\n",
    "        \n",
    "        fitness = 1 / (mse + 1.0)  # Example fitness function; can be customized\n",
    "        genome.fitness = fitness\n",
    "        fitness_scores.append(fitness)\n",
    "    \n",
    "    return fitness_scores\n",
    "\n",
    "# Additional setup for HyperNEAT, including creating a substrate configuration\n",
    "# and modifying the configuration loading as needed for HyperNEAT\n",
    "config_path = 'config_hyperneat.txt'\n",
    "config = neat.Config(neat.DefaultGenome, neat.DefaultReproduction, neat.DefaultSpeciesSet, neat.DefaultStagnation, config_path)\n",
    "\n",
    "p = neat.Population(config)\n",
    "p.add_reporter(neat.StdOutReporter(True))\n",
    "stats = neat.StatisticsReporter()\n",
    "p.add_reporter(stats)\n",
    "p.add_reporter(neat.Checkpointer(5))\n",
    "\n",
    "winner = p.run(eval_genomes_hyperneat, 50)\n",
    "\n",
    "print('\\nBest genome:\\n{!s}'.format(winner))\n",
    "\n",
    "# Plotting the performance graph\n",
    "generation = range(len(stats.get_fitness_mean()))\n",
    "plt.figure(figsize=(10, 5))\n",
    "plt.plot(generation, stats.get_fitness_mean(), label=\"Mean Fitness\")\n",
    "plt.plot(generation, stats.get_fitness_max(), label=\"Max Fitness\")\n",
    "plt.xlabel(\"Generation\")\n",
    "plt.ylabel(\"Fitness\")\n",
    "plt.title(\"Fitness over Generations\")\n",
    "plt.legend(loc=\"best\")\n",
    "plt.show()"
   ]
  }
 ],
 "metadata": {
  "kernelspec": {
   "display_name": ".venv",
   "language": "python",
   "name": "python3"
  },
  "language_info": {
   "codemirror_mode": {
    "name": "ipython",
    "version": 3
   },
   "file_extension": ".py",
   "mimetype": "text/x-python",
   "name": "python",
   "nbconvert_exporter": "python",
   "pygments_lexer": "ipython3",
   "version": "3.10.7"
  }
 },
 "nbformat": 4,
 "nbformat_minor": 2
}
