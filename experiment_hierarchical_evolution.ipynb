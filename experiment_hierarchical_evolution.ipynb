{
 "cells": [
  {
   "cell_type": "code",
   "execution_count": 14,
   "metadata": {},
   "outputs": [],
   "source": [
    "# import sys\n",
    "# sys.path.append('hierarchical_genomes_Mar2024/hierarchical_genomes_Mar2024')\n",
    "# import hierarchical_genomes_Mar2024 as hg\n",
    "\n",
    "import hierarchical_genomes as hg\n",
    "import networkx as nx\n",
    "import matplotlib.pyplot as plt\n",
    "import numpy as np"
   ]
  },
  {
   "cell_type": "markdown",
   "metadata": {},
   "source": [
    "# Genome Example and Network Visualization\n"
   ]
  },
  {
   "cell_type": "code",
   "execution_count": 15,
   "metadata": {},
   "outputs": [
    {
     "name": "stdout",
     "output_type": "stream",
     "text": [
      "[[0.  0.5 0.  0. ]\n",
      " [0.  0.  0.5 0. ]\n",
      " [0.  0.  0.  0.1]\n",
      " [0.  0.  0.  0. ]]\n"
     ]
    }
   ],
   "source": [
    "# Define a simple genome\n",
    "# a connection gene is of the from [from_node, to_node, weight]\n",
    "# A genome consists of nested lists where the lowest level of any branch of the nested lists\n",
    "# is a connection gene.\n",
    "\n",
    "# Define a simple genome \n",
    "# with 3 nodes (given by the largest node number in the genome)\n",
    "# three connections (given by the number of connection genes)\n",
    "# the first two connections genes share the same weight, the third has a smaller weight. This will be shown in the graph visualization\n",
    "genome = [[0,1,0.5],[1,2,0.5],[2,3,0.1]]\n",
    "\n",
    "# Transcribe the genome into a weight matrix\n",
    "weight_matrix = hg.transcribe_hierarchical_genome_to_weight_matrix(genome)\n",
    "print(weight_matrix)\n"
   ]
  },
  {
   "cell_type": "code",
   "execution_count": null,
   "metadata": {},
   "outputs": [],
   "source": [
    "# Use networkx to visualize the genome\n",
    "# First the weight matrix is converted into a networkx graph\n",
    "graph = nx.from_numpy_array(weight_matrix, create_using=nx.DiGraph)\n",
    "\n",
    "# Then the graph is visualized\n",
    "figure = plt.figure(figsize=(5,5))\n",
    "\n",
    "# The layout is chosen to be the kamada kawai layout, this is a force directed graph\n",
    "# Its good to visualize changes in the graph produced by the genome's evolution as \n",
    "# the nodes generally stay at the same location in the graph\n",
    "nx.draw_kamada_kawai(graph, with_labels=True)"
   ]
  },
  {
   "cell_type": "markdown",
   "metadata": {},
   "source": [
    "# Undirected Evolution Example"
   ]
  },
  {
   "cell_type": "markdown",
   "metadata": {},
   "source": [
    "Here we simple mutate the original genome over a few generations so that the we can get an intuition for how the mutation operations changes the underlying network."
   ]
  },
  {
   "cell_type": "code",
   "execution_count": 16,
   "metadata": {},
   "outputs": [
    {
     "name": "stdout",
     "output_type": "stream",
     "text": [
      "Mutated Weight\n"
     ]
    },
    {
     "ename": "TypeError",
     "evalue": "'<' not supported between instances of 'int' and 'NoneType'",
     "output_type": "error",
     "traceback": [
      "\u001b[0;31m---------------------------------------------------------------------------\u001b[0m",
      "\u001b[0;31mTypeError\u001b[0m                                 Traceback (most recent call last)",
      "Cell \u001b[0;32mIn[16], line 16\u001b[0m\n\u001b[1;32m     14\u001b[0m \u001b[38;5;66;03m# Mutate the genome for n_generations\u001b[39;00m\n\u001b[1;32m     15\u001b[0m \u001b[38;5;28;01mfor\u001b[39;00m generation \u001b[38;5;129;01min\u001b[39;00m \u001b[38;5;28mrange\u001b[39m(n_generations):\n\u001b[0;32m---> 16\u001b[0m     genome, mutation \u001b[38;5;241m=\u001b[39m \u001b[43mhg\u001b[49m\u001b[38;5;241;43m.\u001b[39;49m\u001b[43mmutate_genome_with_hox\u001b[49m\u001b[43m(\u001b[49m\u001b[43mgenome\u001b[49m\u001b[43m)\u001b[49m\n\u001b[1;32m     18\u001b[0m     mutation_history\u001b[38;5;241m.\u001b[39mappend(mutation)\n\u001b[1;32m     20\u001b[0m     weight_matrix \u001b[38;5;241m=\u001b[39m hg\u001b[38;5;241m.\u001b[39mtranscribe_hierarchical_genome_to_weight_matrix(genome)\n",
      "File \u001b[0;32m~/Downloads/Advanced-Genomes-for-Evolutionary-Computing-main 3/hierarchical_genomes/hierarchical_genomes/evolution_step_functions.py:108\u001b[0m, in \u001b[0;36mmutate_genome_with_hox\u001b[0;34m(genome)\u001b[0m\n\u001b[1;32m    103\u001b[0m             mutation \u001b[38;5;241m=\u001b[39m \u001b[38;5;124m\"\u001b[39m\u001b[38;5;124mEmpty Genome\u001b[39m\u001b[38;5;124m\"\u001b[39m\n\u001b[1;32m    105\u001b[0m \u001b[38;5;66;03m# Compress the node numbers in the genome\u001b[39;00m\n\u001b[1;32m    106\u001b[0m \u001b[38;5;66;03m# This is done such that the node numbers are consecutive integers\u001b[39;00m\n\u001b[1;32m    107\u001b[0m \u001b[38;5;66;03m# and such that the corresponding weight matrix doesn't become too large\u001b[39;00m\n\u001b[0;32m--> 108\u001b[0m genome \u001b[38;5;241m=\u001b[39m \u001b[43mcompress_node_nr_difference\u001b[49m\u001b[43m(\u001b[49m\u001b[43mgenome\u001b[49m\u001b[43m)\u001b[49m \n\u001b[1;32m    112\u001b[0m genome\u001b[38;5;241m=\u001b[39m delete_empty_lists(genome)\n\u001b[1;32m    115\u001b[0m \u001b[38;5;28;01mreturn\u001b[39;00m genome, mutation\n",
      "File \u001b[0;32m~/Downloads/Advanced-Genomes-for-Evolutionary-Computing-main 3/hierarchical_genomes/hierarchical_genomes/helper_functions.py:150\u001b[0m, in \u001b[0;36mcompress_node_nr_difference\u001b[0;34m(genome)\u001b[0m\n\u001b[1;32m    143\u001b[0m \u001b[38;5;28;01mdef\u001b[39;00m \u001b[38;5;21mcompress_node_nr_difference\u001b[39m(genome):\n\u001b[1;32m    144\u001b[0m \u001b[38;5;250m    \u001b[39m\u001b[38;5;124;03m\"\"\"\u001b[39;00m\n\u001b[1;32m    145\u001b[0m \u001b[38;5;124;03m    Changes the node nrs in a genome such that they are continious\u001b[39;00m\n\u001b[1;32m    146\u001b[0m \u001b[38;5;124;03m    from 0 to the number of nodes in the genome.\u001b[39;00m\n\u001b[1;32m    147\u001b[0m \u001b[38;5;124;03m    This is done in case some nodes are removed during evolution leaving \u001b[39;00m\n\u001b[1;32m    148\u001b[0m \u001b[38;5;124;03m    gaps in the node nrs.\u001b[39;00m\n\u001b[1;32m    149\u001b[0m \u001b[38;5;124;03m    \"\"\"\u001b[39;00m\n\u001b[0;32m--> 150\u001b[0m     maximum \u001b[38;5;241m=\u001b[39m \u001b[43mfind_max_postive_int_in_nested_list\u001b[49m\u001b[43m(\u001b[49m\u001b[43mgenome\u001b[49m\u001b[43m)\u001b[49m\n\u001b[1;32m    151\u001b[0m     minimum \u001b[38;5;241m=\u001b[39m find_min_postive_int_in_nested_list(genome)\n\u001b[1;32m    152\u001b[0m     \u001b[38;5;66;03m#print(maximum, minimum)\u001b[39;00m\n",
      "File \u001b[0;32m~/Downloads/Advanced-Genomes-for-Evolutionary-Computing-main 3/hierarchical_genomes/hierarchical_genomes/helper_functions.py:55\u001b[0m, in \u001b[0;36mfind_max_postive_int_in_nested_list\u001b[0;34m(nested_list, maximum)\u001b[0m\n\u001b[1;32m     52\u001b[0m \u001b[38;5;28;01mif\u001b[39;00m \u001b[38;5;28mtype\u001b[39m(nested_list) \u001b[38;5;241m==\u001b[39m \u001b[38;5;28mlist\u001b[39m:\n\u001b[1;32m     53\u001b[0m     \u001b[38;5;66;03m#print(nested_list)\u001b[39;00m\n\u001b[1;32m     54\u001b[0m     \u001b[38;5;28;01mfor\u001b[39;00m sub_list \u001b[38;5;129;01min\u001b[39;00m nested_list:\n\u001b[0;32m---> 55\u001b[0m         sub_maximum \u001b[38;5;241m=\u001b[39m \u001b[43mfind_max_postive_int_in_nested_list\u001b[49m\u001b[43m(\u001b[49m\u001b[43msub_list\u001b[49m\u001b[43m,\u001b[49m\u001b[43m \u001b[49m\u001b[43mmaximum\u001b[49m\u001b[43m)\u001b[49m\n\u001b[1;32m     56\u001b[0m         \u001b[38;5;28;01mif\u001b[39;00m maximum \u001b[38;5;241m<\u001b[39m sub_maximum:\n\u001b[1;32m     57\u001b[0m             maximum \u001b[38;5;241m=\u001b[39m sub_maximum\n",
      "File \u001b[0;32m~/Downloads/Advanced-Genomes-for-Evolutionary-Computing-main 3/hierarchical_genomes/hierarchical_genomes/helper_functions.py:56\u001b[0m, in \u001b[0;36mfind_max_postive_int_in_nested_list\u001b[0;34m(nested_list, maximum)\u001b[0m\n\u001b[1;32m     54\u001b[0m \u001b[38;5;28;01mfor\u001b[39;00m sub_list \u001b[38;5;129;01min\u001b[39;00m nested_list:\n\u001b[1;32m     55\u001b[0m     sub_maximum \u001b[38;5;241m=\u001b[39m find_max_postive_int_in_nested_list(sub_list, maximum)\n\u001b[0;32m---> 56\u001b[0m     \u001b[38;5;28;01mif\u001b[39;00m \u001b[43mmaximum\u001b[49m\u001b[43m \u001b[49m\u001b[38;5;241;43m<\u001b[39;49m\u001b[43m \u001b[49m\u001b[43msub_maximum\u001b[49m:\n\u001b[1;32m     57\u001b[0m         maximum \u001b[38;5;241m=\u001b[39m sub_maximum\n\u001b[1;32m     58\u001b[0m \u001b[38;5;28;01mreturn\u001b[39;00m maximum \n",
      "\u001b[0;31mTypeError\u001b[0m: '<' not supported between instances of 'int' and 'NoneType'"
     ]
    }
   ],
   "source": [
    "# Setup the number of generations to evolve the genome\n",
    "n_generations = 50\n",
    "\n",
    "# Define the starting genome\n",
    "genome = [[0,1,0.5],[1,2,0.5],[2,3,0.5]]\n",
    "\n",
    "# Transcribe the first genome into a weight matrix for later visualization\n",
    "weight_matrix = hg.transcribe_hierarchical_genome_to_weight_matrix(genome)\n",
    "\n",
    "# Setup lists to store the weight matrices and mutation history\n",
    "weight_matrices = [weight_matrix]\n",
    "mutation_history = [\"initial\"]\n",
    "\n",
    "# Mutate the genome for n_generations\n",
    "for generation in range(n_generations):\n",
    "    genome, mutation = hg.mutate_genome_with_hox(genome)\n",
    "\n",
    "    mutation_history.append(mutation)\n",
    "\n",
    "    weight_matrix = hg.transcribe_hierarchical_genome_to_weight_matrix(genome)\n",
    "    weight_matrices.append(weight_matrix)\n",
    "    \n"
   ]
  },
  {
   "cell_type": "markdown",
   "metadata": {},
   "source": [
    "## Visualize the mutation history of the Genome"
   ]
  },
  {
   "cell_type": "code",
   "execution_count": null,
   "metadata": {},
   "outputs": [],
   "source": [
    "\n",
    "fig, ax = plt.subplots(n_generations,1, figsize=(5,n_generations*5))\n",
    "\n",
    "for generation in range(n_generations):\n",
    "    weight_matrix = weight_matrices[generation]\n",
    "    weight_matrix = np.abs(weight_matrix)\n",
    "    \n",
    "    if len(weight_matrix.shape) == 2:\n",
    "        # Add 1 to all non-zero weights to make the visualization nicer\n",
    "        weight_matrix += weight_matrix != 0\n",
    "\n",
    "        graph = nx.from_numpy_array(weight_matrix, create_using=nx.DiGraph)\n",
    "        nx.draw_kamada_kawai(graph, ax=ax[generation], with_labels=True)\n",
    "        ax[generation].set_title(f\"Generation {generation}, mutation {mutation_history[generation]}\")\n",
    "plt.show()"
   ]
  },
  {
   "cell_type": "markdown",
   "metadata": {},
   "source": [
    "## Visualize the Genome without mutation"
   ]
  },
  {
   "cell_type": "code",
   "execution_count": 17,
   "metadata": {},
   "outputs": [
    {
     "name": "stdout",
     "output_type": "stream",
     "text": [
      "Mutate Connection\n",
      "Mutate Connection\n",
      "Mutate Connection\n",
      "Mutate Connection\n",
      "Mutated Weight\n"
     ]
    },
    {
     "ename": "TypeError",
     "evalue": "'<' not supported between instances of 'int' and 'NoneType'",
     "output_type": "error",
     "traceback": [
      "\u001b[0;31m---------------------------------------------------------------------------\u001b[0m",
      "\u001b[0;31mTypeError\u001b[0m                                 Traceback (most recent call last)",
      "Cell \u001b[0;32mIn[17], line 18\u001b[0m\n\u001b[1;32m     16\u001b[0m \u001b[38;5;66;03m# Mutate the genome without HOX for n_generations_without_hox\u001b[39;00m\n\u001b[1;32m     17\u001b[0m \u001b[38;5;28;01mfor\u001b[39;00m generation \u001b[38;5;129;01min\u001b[39;00m \u001b[38;5;28mrange\u001b[39m(n_generations_without_hox):\n\u001b[0;32m---> 18\u001b[0m     genome_without_hox, mutation \u001b[38;5;241m=\u001b[39m \u001b[43mhg\u001b[49m\u001b[38;5;241;43m.\u001b[39;49m\u001b[43mmutate_genome_without_hox\u001b[49m\u001b[43m(\u001b[49m\u001b[43mgenome_without_hox\u001b[49m\u001b[43m)\u001b[49m\n\u001b[1;32m     20\u001b[0m     mutation_history_without_hox\u001b[38;5;241m.\u001b[39mappend(mutation)\n\u001b[1;32m     22\u001b[0m     weight_matrix_without_hox \u001b[38;5;241m=\u001b[39m hg\u001b[38;5;241m.\u001b[39mtranscribe_hierarchical_genome_to_weight_matrix(genome_without_hox)\n",
      "File \u001b[0;32m~/Downloads/Advanced-Genomes-for-Evolutionary-Computing-main 3/hierarchical_genomes/hierarchical_genomes/evolution_step_functions.py:173\u001b[0m, in \u001b[0;36mmutate_genome_without_hox\u001b[0;34m(genome)\u001b[0m\n\u001b[1;32m    170\u001b[0m     genome \u001b[38;5;241m=\u001b[39m mutate_connection(genome, max_node_nr)\n\u001b[1;32m    172\u001b[0m \u001b[38;5;66;03m# Compress the node numbers in the genome\u001b[39;00m\n\u001b[0;32m--> 173\u001b[0m genome \u001b[38;5;241m=\u001b[39m \u001b[43mcompress_node_nr_difference\u001b[49m\u001b[43m(\u001b[49m\u001b[43mgenome\u001b[49m\u001b[43m)\u001b[49m \n\u001b[1;32m    175\u001b[0m genome \u001b[38;5;241m=\u001b[39m delete_empty_lists(genome)\n\u001b[1;32m    177\u001b[0m \u001b[38;5;28;01mreturn\u001b[39;00m genome, mutation\n",
      "File \u001b[0;32m~/Downloads/Advanced-Genomes-for-Evolutionary-Computing-main 3/hierarchical_genomes/hierarchical_genomes/helper_functions.py:150\u001b[0m, in \u001b[0;36mcompress_node_nr_difference\u001b[0;34m(genome)\u001b[0m\n\u001b[1;32m    143\u001b[0m \u001b[38;5;28;01mdef\u001b[39;00m \u001b[38;5;21mcompress_node_nr_difference\u001b[39m(genome):\n\u001b[1;32m    144\u001b[0m \u001b[38;5;250m    \u001b[39m\u001b[38;5;124;03m\"\"\"\u001b[39;00m\n\u001b[1;32m    145\u001b[0m \u001b[38;5;124;03m    Changes the node nrs in a genome such that they are continious\u001b[39;00m\n\u001b[1;32m    146\u001b[0m \u001b[38;5;124;03m    from 0 to the number of nodes in the genome.\u001b[39;00m\n\u001b[1;32m    147\u001b[0m \u001b[38;5;124;03m    This is done in case some nodes are removed during evolution leaving \u001b[39;00m\n\u001b[1;32m    148\u001b[0m \u001b[38;5;124;03m    gaps in the node nrs.\u001b[39;00m\n\u001b[1;32m    149\u001b[0m \u001b[38;5;124;03m    \"\"\"\u001b[39;00m\n\u001b[0;32m--> 150\u001b[0m     maximum \u001b[38;5;241m=\u001b[39m \u001b[43mfind_max_postive_int_in_nested_list\u001b[49m\u001b[43m(\u001b[49m\u001b[43mgenome\u001b[49m\u001b[43m)\u001b[49m\n\u001b[1;32m    151\u001b[0m     minimum \u001b[38;5;241m=\u001b[39m find_min_postive_int_in_nested_list(genome)\n\u001b[1;32m    152\u001b[0m     \u001b[38;5;66;03m#print(maximum, minimum)\u001b[39;00m\n",
      "File \u001b[0;32m~/Downloads/Advanced-Genomes-for-Evolutionary-Computing-main 3/hierarchical_genomes/hierarchical_genomes/helper_functions.py:55\u001b[0m, in \u001b[0;36mfind_max_postive_int_in_nested_list\u001b[0;34m(nested_list, maximum)\u001b[0m\n\u001b[1;32m     52\u001b[0m \u001b[38;5;28;01mif\u001b[39;00m \u001b[38;5;28mtype\u001b[39m(nested_list) \u001b[38;5;241m==\u001b[39m \u001b[38;5;28mlist\u001b[39m:\n\u001b[1;32m     53\u001b[0m     \u001b[38;5;66;03m#print(nested_list)\u001b[39;00m\n\u001b[1;32m     54\u001b[0m     \u001b[38;5;28;01mfor\u001b[39;00m sub_list \u001b[38;5;129;01min\u001b[39;00m nested_list:\n\u001b[0;32m---> 55\u001b[0m         sub_maximum \u001b[38;5;241m=\u001b[39m \u001b[43mfind_max_postive_int_in_nested_list\u001b[49m\u001b[43m(\u001b[49m\u001b[43msub_list\u001b[49m\u001b[43m,\u001b[49m\u001b[43m \u001b[49m\u001b[43mmaximum\u001b[49m\u001b[43m)\u001b[49m\n\u001b[1;32m     56\u001b[0m         \u001b[38;5;28;01mif\u001b[39;00m maximum \u001b[38;5;241m<\u001b[39m sub_maximum:\n\u001b[1;32m     57\u001b[0m             maximum \u001b[38;5;241m=\u001b[39m sub_maximum\n",
      "File \u001b[0;32m~/Downloads/Advanced-Genomes-for-Evolutionary-Computing-main 3/hierarchical_genomes/hierarchical_genomes/helper_functions.py:56\u001b[0m, in \u001b[0;36mfind_max_postive_int_in_nested_list\u001b[0;34m(nested_list, maximum)\u001b[0m\n\u001b[1;32m     54\u001b[0m \u001b[38;5;28;01mfor\u001b[39;00m sub_list \u001b[38;5;129;01min\u001b[39;00m nested_list:\n\u001b[1;32m     55\u001b[0m     sub_maximum \u001b[38;5;241m=\u001b[39m find_max_postive_int_in_nested_list(sub_list, maximum)\n\u001b[0;32m---> 56\u001b[0m     \u001b[38;5;28;01mif\u001b[39;00m \u001b[43mmaximum\u001b[49m\u001b[43m \u001b[49m\u001b[38;5;241;43m<\u001b[39;49m\u001b[43m \u001b[49m\u001b[43msub_maximum\u001b[49m:\n\u001b[1;32m     57\u001b[0m         maximum \u001b[38;5;241m=\u001b[39m sub_maximum\n\u001b[1;32m     58\u001b[0m \u001b[38;5;28;01mreturn\u001b[39;00m maximum \n",
      "\u001b[0;31mTypeError\u001b[0m: '<' not supported between instances of 'int' and 'NoneType'"
     ]
    }
   ],
   "source": [
    "\n",
    "# Using the mutate_genome_without_hox function\n",
    "\n",
    "# Setup the number of generations to evolve the genome\n",
    "n_generations_without_hox = 50\n",
    "\n",
    "# Define the starting genome again for non-HOX mutations\n",
    "genome_without_hox = [[0,1,0.5],[1,2,0.5],[2,3,0.5]]\n",
    "\n",
    "# Transcribe the first genome into a weight matrix for later visualization\n",
    "weight_matrix_without_hox = hg.transcribe_hierarchical_genome_to_weight_matrix(genome_without_hox)\n",
    "\n",
    "# Setup lists to store the weight matrices and mutation history\n",
    "weight_matrices_without_hox = [weight_matrix_without_hox]\n",
    "mutation_history_without_hox = [\"initial\"]\n",
    "\n",
    "# Mutate the genome without HOX for n_generations_without_hox\n",
    "for generation in range(n_generations_without_hox):\n",
    "    genome_without_hox, mutation = hg.mutate_genome_without_hox(genome_without_hox)\n",
    "\n",
    "    mutation_history_without_hox.append(mutation)\n",
    "\n",
    "    weight_matrix_without_hox = hg.transcribe_hierarchical_genome_to_weight_matrix(genome_without_hox)\n",
    "    weight_matrices_without_hox.append(weight_matrix_without_hox)\n",
    "\n",
    "# Visualization for the genomes without HOX mutations\n",
    "\n",
    "fig, ax = plt.subplots(n_generations_without_hox,1, figsize=(5,n_generations_without_hox*5))\n",
    "\n",
    "for generation in range(n_generations_without_hox):\n",
    "    weight_matrix = weight_matrices_without_hox[generation]\n",
    "    weight_matrix = np.abs(weight_matrix)\n",
    "\n",
    "    if len(weight_matrix.shape) == 2:\n",
    "        weight_matrix += weight_matrix != 0\n",
    "\n",
    "        graph = nx.from_numpy_array(weight_matrix, create_using=nx.DiGraph)\n",
    "        nx.draw_kamada_kawai(graph, ax=ax[generation], with_labels=True)\n",
    "        ax[generation].set_title(f\"Generation {generation} (without HOX), mutation {mutation_history_without_hox[generation]}\")\n",
    "plt.show()"
   ]
  }
 ],
 "metadata": {
  "kernelspec": {
   "display_name": "Python 3 (ipykernel)",
   "language": "python",
   "name": "python3"
  },
  "language_info": {
   "codemirror_mode": {
    "name": "ipython",
    "version": 3
   },
   "file_extension": ".py",
   "mimetype": "text/x-python",
   "name": "python",
   "nbconvert_exporter": "python",
   "pygments_lexer": "ipython3",
   "version": "3.10.7"
  }
 },
 "nbformat": 4,
 "nbformat_minor": 2
}
