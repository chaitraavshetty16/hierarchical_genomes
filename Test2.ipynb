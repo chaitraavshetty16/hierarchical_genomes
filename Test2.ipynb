{
 "cells": [
  {
   "cell_type": "code",
   "execution_count": null,
   "metadata": {},
   "outputs": [],
   "source": [
    "import hierarchical_genomes as hg\n",
    "import numpy as np\n",
    "import copy\n",
    "import reservoirpy as rpy\n",
    "from reservoirpy.nodes import Ridge, Reservoir\n",
    "from reservoirpy.datasets import mackey_glass\n",
    "from reservoirpy.observables import rmse\n",
    "import matplotlib.pyplot as plt\n",
    "\n",
    "genome = [[0,1,0.5],[1,2,0.5],[2,3,0.1],[0,1,0.5],[1,2,0.5],[2,3,0.1],[0,1,0.5],[1,2,0.5],[2,3,0.1]]\n",
    "n_generations = 100\n",
    "population_size = 50 \n",
    "genome_population = [copy.deepcopy(genome) for i in range(population_size)]\n",
    "X = mackey_glass(2000)  # Double the data length\n",
    "\n",
    "# Normalize data between 0 and 1\n",
    "X = (X - np.min(X)) / (np.max(X) - np.min(X))\n",
    "\n",
    "fitness_history = []\n",
    "\n",
    "for generation in range(n_generations):\n",
    "    list_of_genomes = []\n",
    "    list_of_fitness = []\n",
    "    \n",
    "    for genome in genome_population:\n",
    "        mutated_genome, mutation = hg.mutate_genome_with_hox(genome)\n",
    "        weight_matrix = hg.transcribe_hierarchical_genome_to_weight_matrix(mutated_genome)\n",
    "        \n",
    "        # Adjust hyperparameters for reservoir and ridge regression\n",
    "        reservoir = Reservoir(W=weight_matrix, sr=0.9, leak_rate=0.7)  \n",
    "        readout = Ridge(ridge=1e-5)\n",
    "        esn = reservoir >> readout\n",
    "        \n",
    "        # Correct the temporal misalignment\n",
    "        forecast = esn.fit(X[:900], X[1:901]).run(X[900:1900])\n",
    "        fitness = rmse(forecast, X[901:1901])\n",
    "        \n",
    "        list_of_genomes.append(mutated_genome)\n",
    "        list_of_fitness.append(fitness)\n",
    "\n",
    "    best_rmse_index = np.argmin(list_of_fitness)\n",
    "    best_genome = list_of_genomes[best_rmse_index]\n",
    "    best_fitness = list_of_fitness[best_rmse_index]\n",
    "    fitness_history.append(best_fitness)\n",
    "    \n",
    "    # Create a new generation with a mix of best genome and some mutations\n",
    "    genome_population = [copy.deepcopy(best_genome) if np.random.rand() < 0.8 else hg.mutate_genome_with_hox(best_genome)[0] for i in range(population_size)]\n",
    "    \n",
    "plt.plot(fitness_history)\n",
    "plt.xlabel(\"Generations\")\n",
    "plt.ylabel(\"Best RMSE\")\n",
    "plt.title(\"Fitness History over Generations\")\n",
    "plt.show()\n"
   ]
  }
 ],
 "metadata": {
  "kernelspec": {
   "display_name": ".venv",
   "language": "python",
   "name": "python3"
  },
  "language_info": {
   "codemirror_mode": {
    "name": "ipython",
    "version": 3
   },
   "file_extension": ".py",
   "mimetype": "text/x-python",
   "name": "python",
   "nbconvert_exporter": "python",
   "pygments_lexer": "ipython3",
   "version": "3.10.13"
  }
 },
 "nbformat": 4,
 "nbformat_minor": 2
}
